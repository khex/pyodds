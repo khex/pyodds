{
 "cells": [
  {
   "cell_type": "code",
   "execution_count": 24,
   "metadata": {
    "collapsed": false,
    "scrolled": true
   },
   "outputs": [
    {
     "name": "stdout",
     "output_type": "stream",
     "text": [
      "Arizona Diamondbacks itot: [0.5]\n",
      "Atlanta Braves itot: [0.5, 1.5]\n",
      "Baltimore Orioles itot: [-0.5, -1.5]\n",
      "Boston Red Sox itot: [-1.5]\n",
      "Chicago Cubs itot: [1.5, 3.5]\n",
      "Chicago White Sox itot: [-2.5]\n",
      "Cincinnati Reds itot: [2.5]\n",
      "Cleveland Indians itot: [-2.5]\n",
      "Colorado Rockies itot: [-2.5]\n",
      "Detroit Tigers itot: [2.5, 8.5, 1.5, 3.5, 3.5, 0.5]\n",
      "Houston Astros itot: [-3.5]\n",
      "Kansas City Royals itot: [3.5, 5.5]\n",
      "Los Angeles Angels itot: [4.5, 7.5, 8.5, 3.5]\n",
      "Los Angeles Dodgers itot: [-2.5]\n",
      "Miami Marlins itot: [-0.5, -3.5, -1.5, -1.5]\n",
      "Milwaukee Brewers itot: [-1.5, -1.5]\n",
      "Minnesota Twins itot: [4.5, 0.5]\n",
      "New York Mets itot: [-2.5]\n",
      "New York Yankees itot: [-0.5, -3.5, -1.5]\n",
      "Oakland Athletics itot: [0.5]\n",
      "Philadelphia Phillies itot: [4.5, 4.5, 0.5, 1.5]\n",
      "Pittsburgh Pirates itot: [-0.5, -1.5]\n",
      "San Diego Padres itot: [-0.5, -1.5, -1.5, -1.5, -0.5]\n",
      "San Francisco Giants itot: [-0.5, -3.5, -2.5, -0.5, -2.5]\n",
      "Seattle Mariners itot: [2.5, 0.5]\n",
      "St.Louis Cardinals itot: [-0.5]\n",
      "Tampa Bay Rays itot: [-2.5]\n",
      "Texas Rangers itot: [-2.5]\n",
      "Toronto Blue Jays itot: [-2.5, -1.5]\n",
      "Washington Nationals itot: [-3.5, -1.5, -1.5]\n"
     ]
    }
   ],
   "source": [
    "from itertools import groupby\n",
    "from pymongo import MongoClient\n",
    "\n",
    "client = MongoClient(\"mongodb://localhost:27017/\")\n",
    "db = client[\"delta_test\"]\n",
    "\n",
    "# get names of all MLB teams from db\n",
    "teams = db.teams.find({'module.league': 'MLB'})\n",
    "team_names = sorted([team['full'] for team in teams])\n",
    "\n",
    "def grouper(arg):\n",
    "    # k= True or False, t = массив серии\n",
    "    return [list(t)for k, t in groupby(arg, lambda x: x > 0)][0]\n",
    "\n",
    "for name in team_names:\n",
    "    # print(name)\n",
    "    match_list = db.matches.find({'league': 'mlb', 'season': '2015', 'seas_type': 'season',\n",
    "                                  '$or': [{'home.team': name}, {'away.team': name}]})\\\n",
    "                                  .sort([('date.stamp', -1)])\n",
    "    line, hcap, totl, itot = [], [], [], []\n",
    "    for match in match_list:\n",
    "        \n",
    "        \"\"\"   get delta   \"\"\"\n",
    "        delta = match[\"home\"][\"ftot\"][\"delta\"] if match[\"home\"][\"team\"] == name else match[\"away\"][\"ftot\"][\"delta\"]\n",
    "        \n",
    "        \"\"\"   набивает массивы по одному числу   \"\"\"\n",
    "        line.append(delta[0])\n",
    "        hcap.append(delta[1])\n",
    "        totl.append(delta[2])\n",
    "        itot.append(delta[3])\n",
    "        \n",
    "    # print('{} line: {}'.format(name, grouper(line)))\n",
    "    # print('{} hcap: {}'.format(name, grouper(hcap)))\n",
    "    # print('{} totl: {}'.format(name, grouper(totl)))\n",
    "    print('{} itot: {}'.format(name, grouper(itot)))"
   ]
  },
  {
   "cell_type": "code",
   "execution_count": null,
   "metadata": {
    "collapsed": true
   },
   "outputs": [],
   "source": []
  }
 ],
 "metadata": {
  "kernelspec": {
   "display_name": "Python 3",
   "language": "python",
   "name": "python3"
  },
  "language_info": {
   "codemirror_mode": {
    "name": "ipython",
    "version": 3
   },
   "file_extension": ".py",
   "mimetype": "text/x-python",
   "name": "python",
   "nbconvert_exporter": "python",
   "pygments_lexer": "ipython3",
   "version": "3.4.3"
  }
 },
 "nbformat": 4,
 "nbformat_minor": 0
}
