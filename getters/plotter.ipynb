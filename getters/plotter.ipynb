{
 "cells": [
  {
   "cell_type": "code",
   "execution_count": 11,
   "metadata": {
    "collapsed": false
   },
   "outputs": [],
   "source": [
    "import matplotlib.ticker as ticker\n",
    "import matplotlib.pyplot as plt\n",
    "\n",
    "\"\"\" http://stackoverflow.com/questions/13710259\n",
    "    http://matplotlib.org/api/text_api.html#matplotlib.text.Text\n",
    "\"\"\"\n",
    "asdf = [1, -1, 1, 1, -1, -2, 2, -2, -2, -3, 3, 5, 5, -7, 9, -10, 11]\n",
    "data = [abs(d) for d in asdf]\n",
    "clrs = ['g', 'r', 'g', 'g', 'r', 'r', 'g', 'r' ,'r', 'r', 'g', 'g',\n",
    "        'g', 'r', 'g', 'r', 'g']\n",
    "labels = ['Chicago', 'Orlando', 'Miami', 'Boston', 'Charlotte', 'Dallas',\n",
    "          'Golden State', 'Memphis', 'Atlanta', 'New York', 'Cleveland',\n",
    "          'Brooklyn', 'Oklahoma', 'San Antonio', 'LA Lakers', 'New Orleans', 'LA Clippers']\n",
    "\n",
    "ax = plt.axes()\n",
    "bars = ax.bar(range(len(data)), data, color=clrs)\n",
    "\n",
    "for label, rect in zip(labels, bars):\n",
    "    height = rect.get_height()\n",
    "    ax.text(rect.get_x()+rect.get_width()/2., height+.1, label,\n",
    "        ha='center', va='bottom', rotation=90)    \n",
    "\n",
    "plt.show()"
   ]
  },
  {
   "cell_type": "code",
   "execution_count": 13,
   "metadata": {
    "collapsed": true
   },
   "outputs": [],
   "source": [
    "import matplotlib.ticker as ticker\n",
    "import matplotlib.pyplot as plt\n",
    "\n",
    "asdf = [0.5, -0.5, 0.5, 0.5, -0.5, -1.5, 1.5, -1.5, -1.5, -1.5, 2.5, 4.5 -6.5, 8.5, -9.5, 10.5]\n",
    "labels = ['Chicago', 'Orlando', 'Miami', 'Boston', 'Charlotte', 'Dallas',\n",
    "          'Golden State', 'Memphis', 'Atlanta', 'New York', 'Cleveland',\n",
    "          'Brooklyn', 'Oklahoma', 'San Antonio', 'LA Lakers', 'New Orleans']\n",
    "data, clrs = [], []\n",
    "for numb in asdf:\n",
    "    if numb > 0: data.append(numb); clrs.append('g')\n",
    "    else: data.append(abs(numb)); clrs.append('r')\n",
    "\n",
    "ax = plt.axes()\n",
    "bars = ax.bar(range(len(data)), data, color=clrs)\n",
    "\n",
    "for label, rect in zip(labels, bars):\n",
    "    height = rect.get_height()\n",
    "    ax.text(rect.get_x()+rect.get_width()/2., height+.1, label,\n",
    "        ha='center', va='bottom', rotation=90)    \n",
    "\n",
    "plt.show()"
   ]
  },
  {
   "cell_type": "code",
   "execution_count": null,
   "metadata": {
    "collapsed": true
   },
   "outputs": [],
   "source": []
  }
 ],
 "metadata": {
  "kernelspec": {
   "display_name": "Python 3",
   "language": "python",
   "name": "python3"
  },
  "language_info": {
   "codemirror_mode": {
    "name": "ipython",
    "version": 3
   },
   "file_extension": ".py",
   "mimetype": "text/x-python",
   "name": "python",
   "nbconvert_exporter": "python",
   "pygments_lexer": "ipython3",
   "version": "3.4.3"
  }
 },
 "nbformat": 4,
 "nbformat_minor": 0
}
