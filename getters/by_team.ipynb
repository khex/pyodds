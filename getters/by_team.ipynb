{
 "cells": [
  {
   "cell_type": "code",
   "execution_count": 13,
   "metadata": {
    "collapsed": false,
    "scrolled": true
   },
   "outputs": [
    {
     "name": "stdout",
     "output_type": "stream",
     "text": [
      "rslt_line: [False, True, False, True, True, False, False, False, True, True, False, False, True, True, True, False, False, False, False]\n",
      "odds_line: [2.49, 2.33, 1.99, 1.81, 1.77, 2.09, 1.85, 1.98, 1.56, 1.58, 1.64, 2.44, 1.94, 2.18, 2.34, 2.08, 1.95, 1.94, 1.65]\n",
      "delt_line: [-2, 2, -2, 1, 1, -2, -1, -2, 1, 1, -1, -2, 2, 2, 2, -2, -2, -2, -1]\n",
      "\n",
      "rslt_hcap: [-1, 7, -5, 5, 2, -4, -6, -1, 1, 1, -1, -6, 4, 3, 8, -11, -5, -4, -3]\n",
      "odds_hcap: [1.5, 1.5, 1.5, -1.5, -1.5, 1.5, -1.5, 1.5, -1.5, -1.5, -1.5, 1.5, 1.5, 1.5, 1.5, 1.5, 1.5, 1.5, -1.5]\n",
      "delt_hcap: [0.5, 8.5, -3.5, 3.5, 0.5, -2.5, -7.5, 0.5, -0.5, -0.5, -2.5, -4.5, 5.5, 4.5, 9.5, -9.5, -3.5, -2.5, -4.5]\n",
      "\n",
      "rslt_totl: [13, 17, 15, 11, 14, 12, 12, 9, 9, 9, 15, 10, 10, 13, 16, 17, 9, 12, 7]\n",
      "odds_totl: [7.5, 7.5, 8.5, 8.5, 8.5, 8.5, 8.5, 7.5, 7.5, 7.5, 8.5, 7.5, 7.5, 8.5, 7.5, 8.5, 8.5, 6.5, 8.5]\n",
      "delt_totl: [5.5, 9.5, 6.5, 2.5, 5.5, 3.5, 3.5, 1.5, 1.5, 1.5, 6.5, 2.5, 2.5, 4.5, 8.5, 8.5, 0.5, 5.5, -1.5]\n",
      "\n",
      "rslt_itot: [6, 12, 5, 8, 8, 4, 3, 4, 5, 5, 7, 2, 7, 8, 12, 3, 2, 4, 2]\n",
      "odds_itot: [3.5, 3.5, 3.5, 4.5, 4.5, 3.5, 4.5, 3.5, 4.5, 4.5, 4.5, 3.5, 3.5, 3.5, 3.5, 3.5, 3.5, 3.5, 4.5]\n",
      "delt_itot: [2.5, 8.5, 1.5, 3.5, 3.5, 0.5, -1.5, 0.5, 0.5, 0.5, 2.5, -1.5, 3.5, 4.5, 8.5, -0.5, -1.5, 0.5, -2.5]\n"
     ]
    }
   ],
   "source": [
    "from pymongo import MongoClient\n",
    "\n",
    "client = MongoClient(\"mongodb://localhost:27017/\")\n",
    "db = client[\"delta_test\"]\n",
    "\n",
    "name = \"Detroit Tigers\"\n",
    "match_list = db.matches.find({'league': 'mlb', 'season': '2015', 'seas_type': 'season',\n",
    "                              '$or': [{'home.team': name}, {'away.team': name}]})\\\n",
    "                              .sort([('date.stamp', -1)])\n",
    "\n",
    "delt_line, delt_hcap, delt_totl, delt_itot = [], [], [], []\n",
    "rslt_line, rslt_hcap, rslt_totl, rslt_itot = [], [], [], []\n",
    "odds_line, odds_hcap, odds_totl, odds_itot = [], [], [], []\n",
    "\n",
    "for match in match_list:\n",
    "\n",
    "    \"\"\"   get delta   \"\"\"\n",
    "    # delta = match[\"home\"][\"ftot\"] if match[\"home\"][\"team\"] == name else match[\"away\"][\"ftot\"]\n",
    "    numb = 0 if match[\"home\"][\"team\"] == name else 1\n",
    "    place = 'home' if numb == 0 else 'away'\n",
    "    \n",
    "    \"\"\"   набивает массивы по одному числу   \"\"\"\n",
    "    delt_line.append(match[place][\"ftot\"][\"delta\"][0])\n",
    "    delt_hcap.append(match[place][\"ftot\"][\"delta\"][1])\n",
    "    delt_totl.append(match[place][\"ftot\"][\"delta\"][2])\n",
    "    delt_itot.append(match[place][\"ftot\"][\"delta\"][3])\n",
    "\n",
    "    rslt_line.append(match[place][\"ftot\"][\"resalt\"][0])\n",
    "    rslt_hcap.append(match[place][\"ftot\"][\"resalt\"][1])\n",
    "    rslt_totl.append(match[place][\"ftot\"][\"resalt\"][2])\n",
    "    rslt_itot.append(match[place][\"ftot\"][\"resalt\"][3])\n",
    "    \n",
    "    odds_line.append(match[\"odds\"][\"line\"][\"ftot\"][\"mean\"][numb]) \n",
    "    odds_hcap.append(match[\"odds\"][\"hand\"][\"ftot\"][\"value\"][numb]) \n",
    "    odds_totl.append(match[\"odds\"][\"totl\"][\"ftot\"][\"value\"][numb]) \n",
    "    odds_itot.append(match[\"odds\"][\"itot\"][\"ftot\"][\"value\"][numb])\n",
    "\n",
    "\n",
    "print('rslt_line: {}'.format(rslt_line))\n",
    "print('odds_line: {}'.format(odds_line))\n",
    "print('delt_line: {}\\n'.format(delt_line))\n",
    "\n",
    "print('rslt_hcap: {}'.format(rslt_hcap))\n",
    "print('odds_hcap: {}'.format(odds_hcap))\n",
    "print('delt_hcap: {}\\n'.format(delt_hcap))\n",
    "\n",
    "print('rslt_totl: {}'.format(rslt_totl))\n",
    "print('odds_totl: {}'.format(odds_totl))\n",
    "print('delt_totl: {}\\n'.format(delt_totl))\n",
    "\n",
    "print('rslt_itot: {}'.format(rslt_itot))\n",
    "print('odds_itot: {}'.format(odds_itot))\n",
    "print('delt_itot: {}'.format(delt_itot))"
   ]
  },
  {
   "cell_type": "code",
   "execution_count": null,
   "metadata": {
    "collapsed": true
   },
   "outputs": [],
   "source": []
  }
 ],
 "metadata": {
  "kernelspec": {
   "display_name": "Python 3",
   "language": "python",
   "name": "python3"
  },
  "language_info": {
   "codemirror_mode": {
    "name": "ipython",
    "version": 3
   },
   "file_extension": ".py",
   "mimetype": "text/x-python",
   "name": "python",
   "nbconvert_exporter": "python",
   "pygments_lexer": "ipython3",
   "version": "3.4.3"
  }
 },
 "nbformat": 4,
 "nbformat_minor": 0
}
